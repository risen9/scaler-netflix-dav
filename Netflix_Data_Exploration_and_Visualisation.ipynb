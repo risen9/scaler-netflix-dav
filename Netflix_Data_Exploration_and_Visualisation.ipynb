{
  "cells": [
    {
      "cell_type": "markdown",
      "metadata": {
        "id": "view-in-github",
        "colab_type": "text"
      },
      "source": [
        "<a href=\"https://colab.research.google.com/github/risen9/scaler-netflix-dav/blob/main/Netflix_Data_Exploration_and_Visualisation.ipynb\" target=\"_parent\"><img src=\"https://colab.research.google.com/assets/colab-badge.svg\" alt=\"Open In Colab\"/></a>"
      ]
    },
    {
      "cell_type": "markdown",
      "metadata": {
        "id": "V9lvyMeDzcb0"
      },
      "source": [
        "## importing libraries and reading file"
      ]
    },
    {
      "cell_type": "code",
      "execution_count": null,
      "metadata": {
        "id": "YrQ6pAwBzcb0"
      },
      "outputs": [],
      "source": [
        "import numpy as np\n",
        "import pandas as pd\n",
        "import matplotlib.pyplot as plt\n",
        "import seaborn as sns\n",
        "\n",
        "netflix_df=pd.read_csv(\"netflix.csv\")"
      ]
    },
    {
      "cell_type": "code",
      "execution_count": null,
      "metadata": {
        "id": "Hx18nZR3zcb0",
        "outputId": "1b324ace-64d4-4579-9a9d-29b7d6bc0c32"
      },
      "outputs": [
        {
          "data": {
            "text/html": [
              "<div>\n",
              "<style scoped>\n",
              "    .dataframe tbody tr th:only-of-type {\n",
              "        vertical-align: middle;\n",
              "    }\n",
              "\n",
              "    .dataframe tbody tr th {\n",
              "        vertical-align: top;\n",
              "    }\n",
              "\n",
              "    .dataframe thead th {\n",
              "        text-align: right;\n",
              "    }\n",
              "</style>\n",
              "<table border=\"1\" class=\"dataframe\">\n",
              "  <thead>\n",
              "    <tr style=\"text-align: right;\">\n",
              "      <th></th>\n",
              "      <th>show_id</th>\n",
              "      <th>type</th>\n",
              "      <th>title</th>\n",
              "      <th>director</th>\n",
              "      <th>cast</th>\n",
              "      <th>country</th>\n",
              "      <th>date_added</th>\n",
              "      <th>release_year</th>\n",
              "      <th>rating</th>\n",
              "      <th>duration</th>\n",
              "      <th>listed_in</th>\n",
              "      <th>description</th>\n",
              "    </tr>\n",
              "  </thead>\n",
              "  <tbody>\n",
              "    <tr>\n",
              "      <th>0</th>\n",
              "      <td>s1</td>\n",
              "      <td>Movie</td>\n",
              "      <td>Dick Johnson Is Dead</td>\n",
              "      <td>Kirsten Johnson</td>\n",
              "      <td>NaN</td>\n",
              "      <td>United States</td>\n",
              "      <td>September 25, 2021</td>\n",
              "      <td>2020</td>\n",
              "      <td>PG-13</td>\n",
              "      <td>90 min</td>\n",
              "      <td>Documentaries</td>\n",
              "      <td>As her father nears the end of his life, filmm...</td>\n",
              "    </tr>\n",
              "    <tr>\n",
              "      <th>1</th>\n",
              "      <td>s2</td>\n",
              "      <td>TV Show</td>\n",
              "      <td>Blood &amp; Water</td>\n",
              "      <td>NaN</td>\n",
              "      <td>Ama Qamata, Khosi Ngema, Gail Mabalane, Thaban...</td>\n",
              "      <td>South Africa</td>\n",
              "      <td>September 24, 2021</td>\n",
              "      <td>2021</td>\n",
              "      <td>TV-MA</td>\n",
              "      <td>2 Seasons</td>\n",
              "      <td>International TV Shows, TV Dramas, TV Mysteries</td>\n",
              "      <td>After crossing paths at a party, a Cape Town t...</td>\n",
              "    </tr>\n",
              "    <tr>\n",
              "      <th>2</th>\n",
              "      <td>s3</td>\n",
              "      <td>TV Show</td>\n",
              "      <td>Ganglands</td>\n",
              "      <td>Julien Leclercq</td>\n",
              "      <td>Sami Bouajila, Tracy Gotoas, Samuel Jouy, Nabi...</td>\n",
              "      <td>NaN</td>\n",
              "      <td>September 24, 2021</td>\n",
              "      <td>2021</td>\n",
              "      <td>TV-MA</td>\n",
              "      <td>1 Season</td>\n",
              "      <td>Crime TV Shows, International TV Shows, TV Act...</td>\n",
              "      <td>To protect his family from a powerful drug lor...</td>\n",
              "    </tr>\n",
              "    <tr>\n",
              "      <th>3</th>\n",
              "      <td>s4</td>\n",
              "      <td>TV Show</td>\n",
              "      <td>Jailbirds New Orleans</td>\n",
              "      <td>NaN</td>\n",
              "      <td>NaN</td>\n",
              "      <td>NaN</td>\n",
              "      <td>September 24, 2021</td>\n",
              "      <td>2021</td>\n",
              "      <td>TV-MA</td>\n",
              "      <td>1 Season</td>\n",
              "      <td>Docuseries, Reality TV</td>\n",
              "      <td>Feuds, flirtations and toilet talk go down amo...</td>\n",
              "    </tr>\n",
              "    <tr>\n",
              "      <th>4</th>\n",
              "      <td>s5</td>\n",
              "      <td>TV Show</td>\n",
              "      <td>Kota Factory</td>\n",
              "      <td>NaN</td>\n",
              "      <td>Mayur More, Jitendra Kumar, Ranjan Raj, Alam K...</td>\n",
              "      <td>India</td>\n",
              "      <td>September 24, 2021</td>\n",
              "      <td>2021</td>\n",
              "      <td>TV-MA</td>\n",
              "      <td>2 Seasons</td>\n",
              "      <td>International TV Shows, Romantic TV Shows, TV ...</td>\n",
              "      <td>In a city of coaching centers known to train I...</td>\n",
              "    </tr>\n",
              "  </tbody>\n",
              "</table>\n",
              "</div>"
            ],
            "text/plain": [
              "  show_id     type                  title         director  \\\n",
              "0      s1    Movie   Dick Johnson Is Dead  Kirsten Johnson   \n",
              "1      s2  TV Show          Blood & Water              NaN   \n",
              "2      s3  TV Show              Ganglands  Julien Leclercq   \n",
              "3      s4  TV Show  Jailbirds New Orleans              NaN   \n",
              "4      s5  TV Show           Kota Factory              NaN   \n",
              "\n",
              "                                                cast        country  \\\n",
              "0                                                NaN  United States   \n",
              "1  Ama Qamata, Khosi Ngema, Gail Mabalane, Thaban...   South Africa   \n",
              "2  Sami Bouajila, Tracy Gotoas, Samuel Jouy, Nabi...            NaN   \n",
              "3                                                NaN            NaN   \n",
              "4  Mayur More, Jitendra Kumar, Ranjan Raj, Alam K...          India   \n",
              "\n",
              "           date_added  release_year rating   duration  \\\n",
              "0  September 25, 2021          2020  PG-13     90 min   \n",
              "1  September 24, 2021          2021  TV-MA  2 Seasons   \n",
              "2  September 24, 2021          2021  TV-MA   1 Season   \n",
              "3  September 24, 2021          2021  TV-MA   1 Season   \n",
              "4  September 24, 2021          2021  TV-MA  2 Seasons   \n",
              "\n",
              "                                           listed_in  \\\n",
              "0                                      Documentaries   \n",
              "1    International TV Shows, TV Dramas, TV Mysteries   \n",
              "2  Crime TV Shows, International TV Shows, TV Act...   \n",
              "3                             Docuseries, Reality TV   \n",
              "4  International TV Shows, Romantic TV Shows, TV ...   \n",
              "\n",
              "                                         description  \n",
              "0  As her father nears the end of his life, filmm...  \n",
              "1  After crossing paths at a party, a Cape Town t...  \n",
              "2  To protect his family from a powerful drug lor...  \n",
              "3  Feuds, flirtations and toilet talk go down amo...  \n",
              "4  In a city of coaching centers known to train I...  "
            ]
          },
          "execution_count": 2,
          "metadata": {},
          "output_type": "execute_result"
        }
      ],
      "source": [
        "netflix_df.head()"
      ]
    },
    {
      "cell_type": "code",
      "execution_count": null,
      "metadata": {
        "id": "1mfWSWy3zcb1",
        "outputId": "959bfbb3-8d08-47ab-d855-90338bc2a3ea"
      },
      "outputs": [
        {
          "data": {
            "text/html": [
              "<div>\n",
              "<style scoped>\n",
              "    .dataframe tbody tr th:only-of-type {\n",
              "        vertical-align: middle;\n",
              "    }\n",
              "\n",
              "    .dataframe tbody tr th {\n",
              "        vertical-align: top;\n",
              "    }\n",
              "\n",
              "    .dataframe thead th {\n",
              "        text-align: right;\n",
              "    }\n",
              "</style>\n",
              "<table border=\"1\" class=\"dataframe\">\n",
              "  <thead>\n",
              "    <tr style=\"text-align: right;\">\n",
              "      <th></th>\n",
              "      <th>show_id</th>\n",
              "      <th>type</th>\n",
              "      <th>title</th>\n",
              "      <th>director</th>\n",
              "      <th>cast</th>\n",
              "      <th>country</th>\n",
              "      <th>date_added</th>\n",
              "      <th>release_year</th>\n",
              "      <th>rating</th>\n",
              "      <th>duration</th>\n",
              "      <th>listed_in</th>\n",
              "      <th>description</th>\n",
              "    </tr>\n",
              "  </thead>\n",
              "  <tbody>\n",
              "    <tr>\n",
              "      <th>count</th>\n",
              "      <td>8807</td>\n",
              "      <td>8807</td>\n",
              "      <td>8807</td>\n",
              "      <td>6173</td>\n",
              "      <td>7982</td>\n",
              "      <td>7976</td>\n",
              "      <td>8797</td>\n",
              "      <td>8807.000000</td>\n",
              "      <td>8803</td>\n",
              "      <td>8804</td>\n",
              "      <td>8807</td>\n",
              "      <td>8807</td>\n",
              "    </tr>\n",
              "    <tr>\n",
              "      <th>unique</th>\n",
              "      <td>8807</td>\n",
              "      <td>2</td>\n",
              "      <td>8807</td>\n",
              "      <td>4528</td>\n",
              "      <td>7692</td>\n",
              "      <td>748</td>\n",
              "      <td>1767</td>\n",
              "      <td>NaN</td>\n",
              "      <td>17</td>\n",
              "      <td>220</td>\n",
              "      <td>514</td>\n",
              "      <td>8775</td>\n",
              "    </tr>\n",
              "    <tr>\n",
              "      <th>top</th>\n",
              "      <td>s7281</td>\n",
              "      <td>Movie</td>\n",
              "      <td>Secret Obsession</td>\n",
              "      <td>Rajiv Chilaka</td>\n",
              "      <td>David Attenborough</td>\n",
              "      <td>United States</td>\n",
              "      <td>January 1, 2020</td>\n",
              "      <td>NaN</td>\n",
              "      <td>TV-MA</td>\n",
              "      <td>1 Season</td>\n",
              "      <td>Dramas, International Movies</td>\n",
              "      <td>Paranormal activity at a lush, abandoned prope...</td>\n",
              "    </tr>\n",
              "    <tr>\n",
              "      <th>freq</th>\n",
              "      <td>1</td>\n",
              "      <td>6131</td>\n",
              "      <td>1</td>\n",
              "      <td>19</td>\n",
              "      <td>19</td>\n",
              "      <td>2818</td>\n",
              "      <td>109</td>\n",
              "      <td>NaN</td>\n",
              "      <td>3207</td>\n",
              "      <td>1793</td>\n",
              "      <td>362</td>\n",
              "      <td>4</td>\n",
              "    </tr>\n",
              "    <tr>\n",
              "      <th>mean</th>\n",
              "      <td>NaN</td>\n",
              "      <td>NaN</td>\n",
              "      <td>NaN</td>\n",
              "      <td>NaN</td>\n",
              "      <td>NaN</td>\n",
              "      <td>NaN</td>\n",
              "      <td>NaN</td>\n",
              "      <td>2014.180198</td>\n",
              "      <td>NaN</td>\n",
              "      <td>NaN</td>\n",
              "      <td>NaN</td>\n",
              "      <td>NaN</td>\n",
              "    </tr>\n",
              "    <tr>\n",
              "      <th>std</th>\n",
              "      <td>NaN</td>\n",
              "      <td>NaN</td>\n",
              "      <td>NaN</td>\n",
              "      <td>NaN</td>\n",
              "      <td>NaN</td>\n",
              "      <td>NaN</td>\n",
              "      <td>NaN</td>\n",
              "      <td>8.819312</td>\n",
              "      <td>NaN</td>\n",
              "      <td>NaN</td>\n",
              "      <td>NaN</td>\n",
              "      <td>NaN</td>\n",
              "    </tr>\n",
              "    <tr>\n",
              "      <th>min</th>\n",
              "      <td>NaN</td>\n",
              "      <td>NaN</td>\n",
              "      <td>NaN</td>\n",
              "      <td>NaN</td>\n",
              "      <td>NaN</td>\n",
              "      <td>NaN</td>\n",
              "      <td>NaN</td>\n",
              "      <td>1925.000000</td>\n",
              "      <td>NaN</td>\n",
              "      <td>NaN</td>\n",
              "      <td>NaN</td>\n",
              "      <td>NaN</td>\n",
              "    </tr>\n",
              "    <tr>\n",
              "      <th>25%</th>\n",
              "      <td>NaN</td>\n",
              "      <td>NaN</td>\n",
              "      <td>NaN</td>\n",
              "      <td>NaN</td>\n",
              "      <td>NaN</td>\n",
              "      <td>NaN</td>\n",
              "      <td>NaN</td>\n",
              "      <td>2013.000000</td>\n",
              "      <td>NaN</td>\n",
              "      <td>NaN</td>\n",
              "      <td>NaN</td>\n",
              "      <td>NaN</td>\n",
              "    </tr>\n",
              "    <tr>\n",
              "      <th>50%</th>\n",
              "      <td>NaN</td>\n",
              "      <td>NaN</td>\n",
              "      <td>NaN</td>\n",
              "      <td>NaN</td>\n",
              "      <td>NaN</td>\n",
              "      <td>NaN</td>\n",
              "      <td>NaN</td>\n",
              "      <td>2017.000000</td>\n",
              "      <td>NaN</td>\n",
              "      <td>NaN</td>\n",
              "      <td>NaN</td>\n",
              "      <td>NaN</td>\n",
              "    </tr>\n",
              "    <tr>\n",
              "      <th>75%</th>\n",
              "      <td>NaN</td>\n",
              "      <td>NaN</td>\n",
              "      <td>NaN</td>\n",
              "      <td>NaN</td>\n",
              "      <td>NaN</td>\n",
              "      <td>NaN</td>\n",
              "      <td>NaN</td>\n",
              "      <td>2019.000000</td>\n",
              "      <td>NaN</td>\n",
              "      <td>NaN</td>\n",
              "      <td>NaN</td>\n",
              "      <td>NaN</td>\n",
              "    </tr>\n",
              "    <tr>\n",
              "      <th>max</th>\n",
              "      <td>NaN</td>\n",
              "      <td>NaN</td>\n",
              "      <td>NaN</td>\n",
              "      <td>NaN</td>\n",
              "      <td>NaN</td>\n",
              "      <td>NaN</td>\n",
              "      <td>NaN</td>\n",
              "      <td>2021.000000</td>\n",
              "      <td>NaN</td>\n",
              "      <td>NaN</td>\n",
              "      <td>NaN</td>\n",
              "      <td>NaN</td>\n",
              "    </tr>\n",
              "  </tbody>\n",
              "</table>\n",
              "</div>"
            ],
            "text/plain": [
              "       show_id   type             title       director                cast  \\\n",
              "count     8807   8807              8807           6173                7982   \n",
              "unique    8807      2              8807           4528                7692   \n",
              "top      s7281  Movie  Secret Obsession  Rajiv Chilaka  David Attenborough   \n",
              "freq         1   6131                 1             19                  19   \n",
              "mean       NaN    NaN               NaN            NaN                 NaN   \n",
              "std        NaN    NaN               NaN            NaN                 NaN   \n",
              "min        NaN    NaN               NaN            NaN                 NaN   \n",
              "25%        NaN    NaN               NaN            NaN                 NaN   \n",
              "50%        NaN    NaN               NaN            NaN                 NaN   \n",
              "75%        NaN    NaN               NaN            NaN                 NaN   \n",
              "max        NaN    NaN               NaN            NaN                 NaN   \n",
              "\n",
              "              country       date_added  release_year rating  duration  \\\n",
              "count            7976             8797   8807.000000   8803      8804   \n",
              "unique            748             1767           NaN     17       220   \n",
              "top     United States  January 1, 2020           NaN  TV-MA  1 Season   \n",
              "freq             2818              109           NaN   3207      1793   \n",
              "mean              NaN              NaN   2014.180198    NaN       NaN   \n",
              "std               NaN              NaN      8.819312    NaN       NaN   \n",
              "min               NaN              NaN   1925.000000    NaN       NaN   \n",
              "25%               NaN              NaN   2013.000000    NaN       NaN   \n",
              "50%               NaN              NaN   2017.000000    NaN       NaN   \n",
              "75%               NaN              NaN   2019.000000    NaN       NaN   \n",
              "max               NaN              NaN   2021.000000    NaN       NaN   \n",
              "\n",
              "                           listed_in  \\\n",
              "count                           8807   \n",
              "unique                           514   \n",
              "top     Dramas, International Movies   \n",
              "freq                             362   \n",
              "mean                             NaN   \n",
              "std                              NaN   \n",
              "min                              NaN   \n",
              "25%                              NaN   \n",
              "50%                              NaN   \n",
              "75%                              NaN   \n",
              "max                              NaN   \n",
              "\n",
              "                                              description  \n",
              "count                                                8807  \n",
              "unique                                               8775  \n",
              "top     Paranormal activity at a lush, abandoned prope...  \n",
              "freq                                                    4  \n",
              "mean                                                  NaN  \n",
              "std                                                   NaN  \n",
              "min                                                   NaN  \n",
              "25%                                                   NaN  \n",
              "50%                                                   NaN  \n",
              "75%                                                   NaN  \n",
              "max                                                   NaN  "
            ]
          },
          "execution_count": 3,
          "metadata": {},
          "output_type": "execute_result"
        }
      ],
      "source": [
        "netflix_df.describe(include='all')"
      ]
    },
    {
      "cell_type": "markdown",
      "metadata": {
        "id": "ePY-d8FRzcb1"
      },
      "source": [
        "## count NaN in each columns"
      ]
    },
    {
      "cell_type": "code",
      "execution_count": null,
      "metadata": {
        "id": "N3Dcj-2Uzcb1",
        "outputId": "a2f93401-7500-4995-df31-97184e2b257a"
      },
      "outputs": [
        {
          "name": "stdout",
          "output_type": "stream",
          "text": [
            "show_id 0\n",
            "type 0\n",
            "title 0\n",
            "director 2634\n",
            "cast 825\n",
            "country 831\n",
            "date_added 10\n",
            "release_year 0\n",
            "rating 4\n",
            "duration 3\n",
            "listed_in 0\n",
            "description 0\n"
          ]
        }
      ],
      "source": [
        "for col in list(netflix_df.columns):\n",
        "    print(col, netflix_df[col].isnull().sum())\n",
        ""
      ]
    },
    {
      "cell_type": "markdown",
      "metadata": {
        "id": "nGDr1YpSzcb1"
      },
      "source": [
        "## Finding 1\n",
        "\n",
        "When rows with NaN value for rating column was checked, it was observed that, duration values were misplaced in the rating column. Rating values were the ones to be NaN. Hence columns were swapped for these 3 rows."
      ]
    },
    {
      "cell_type": "code",
      "execution_count": null,
      "metadata": {
        "id": "Lud9QYayzcb1",
        "outputId": "854c979d-702b-4354-f103-4c9770fb3819"
      },
      "outputs": [
        {
          "data": {
            "text/plain": [
              "array(['PG-13', 'TV-MA', 'PG', 'TV-14', 'TV-PG', 'TV-Y', 'TV-Y7', 'R',\n",
              "       'TV-G', 'G', 'NC-17', '74 min', '84 min', '66 min', 'NR', nan,\n",
              "       'TV-Y7-FV', 'UR'], dtype=object)"
            ]
          },
          "execution_count": 5,
          "metadata": {},
          "output_type": "execute_result"
        }
      ],
      "source": [
        "netflix_df['rating'].unique()"
      ]
    },
    {
      "cell_type": "code",
      "execution_count": null,
      "metadata": {
        "id": "m9l_YByyzcb1",
        "outputId": "66454a20-4f81-47bf-c06a-347eeae642ba"
      },
      "outputs": [
        {
          "data": {
            "text/html": [
              "<div>\n",
              "<style scoped>\n",
              "    .dataframe tbody tr th:only-of-type {\n",
              "        vertical-align: middle;\n",
              "    }\n",
              "\n",
              "    .dataframe tbody tr th {\n",
              "        vertical-align: top;\n",
              "    }\n",
              "\n",
              "    .dataframe thead th {\n",
              "        text-align: right;\n",
              "    }\n",
              "</style>\n",
              "<table border=\"1\" class=\"dataframe\">\n",
              "  <thead>\n",
              "    <tr style=\"text-align: right;\">\n",
              "      <th></th>\n",
              "      <th>rating</th>\n",
              "      <th>duration</th>\n",
              "    </tr>\n",
              "  </thead>\n",
              "  <tbody>\n",
              "    <tr>\n",
              "      <th>5541</th>\n",
              "      <td>NaN</td>\n",
              "      <td>74 min</td>\n",
              "    </tr>\n",
              "    <tr>\n",
              "      <th>5794</th>\n",
              "      <td>NaN</td>\n",
              "      <td>84 min</td>\n",
              "    </tr>\n",
              "    <tr>\n",
              "      <th>5813</th>\n",
              "      <td>NaN</td>\n",
              "      <td>66 min</td>\n",
              "    </tr>\n",
              "  </tbody>\n",
              "</table>\n",
              "</div>"
            ],
            "text/plain": [
              "     rating duration\n",
              "5541    NaN   74 min\n",
              "5794    NaN   84 min\n",
              "5813    NaN   66 min"
            ]
          },
          "execution_count": 6,
          "metadata": {},
          "output_type": "execute_result"
        }
      ],
      "source": [
        "netflix_df.loc[netflix_df['duration'].isna(), 'duration'] = netflix_df.loc[netflix_df['duration'].isna(), 'rating']\n",
        "\n",
        "# Now, update teh rating field as nan\n",
        "netflix_df.loc[[5541, 5794, 5813], 'rating'] = np.nan\n",
        "\n",
        "# check the data\n",
        "netflix_df.loc[[5541, 5794, 5813], ['rating', 'duration']]"
      ]
    },
    {
      "cell_type": "code",
      "execution_count": null,
      "metadata": {
        "id": "gt8-ec2ozcb1",
        "outputId": "4a804e42-7deb-409e-a71b-f6ee8b88939b"
      },
      "outputs": [
        {
          "data": {
            "text/plain": [
              "array(['PG-13', 'TV-MA', 'PG', 'TV-14', 'TV-PG', 'TV-Y', 'TV-Y7', 'R',\n",
              "       'TV-G', 'G', 'NC-17', nan, 'NR', 'TV-Y7-FV', 'UR'], dtype=object)"
            ]
          },
          "execution_count": 7,
          "metadata": {},
          "output_type": "execute_result"
        }
      ],
      "source": [
        "netflix_df['rating'].unique()"
      ]
    },
    {
      "cell_type": "code",
      "execution_count": null,
      "metadata": {
        "id": "qixmBrQvzcb1",
        "outputId": "75b4e30e-11e2-41b7-af6d-86be8918e342"
      },
      "outputs": [
        {
          "data": {
            "text/plain": [
              "array(['September 25, 2021', 'September 24, 2021', 'September 23, 2021',\n",
              "       ..., 'December 6, 2018', 'March 9, 2016', 'January 11, 2020'],\n",
              "      dtype=object)"
            ]
          },
          "execution_count": 8,
          "metadata": {},
          "output_type": "execute_result"
        }
      ],
      "source": [
        "netflix_df['date_added'].unique()"
      ]
    },
    {
      "cell_type": "markdown",
      "metadata": {
        "id": "O93T8qxJzcb1"
      },
      "source": [
        "## Filling or Removing NaN values"
      ]
    },
    {
      "cell_type": "markdown",
      "metadata": {
        "id": "TzBYFjG8zcb2"
      },
      "source": [
        "Entries where there are no director and country name would be dropped."
      ]
    },
    {
      "cell_type": "code",
      "execution_count": null,
      "metadata": {
        "id": "tkRF8nkszcb2"
      },
      "outputs": [],
      "source": [
        "netflix_df.dropna(subset = ['director', 'country'], how='all', inplace = True)"
      ]
    },
    {
      "cell_type": "markdown",
      "metadata": {
        "id": "K3pYNx9Ezcb2"
      },
      "source": [
        "Ratings with NaN are only a few compared to size of dataset. Hence those rows are dropped."
      ]
    },
    {
      "cell_type": "code",
      "execution_count": null,
      "metadata": {
        "id": "F27jikVMzcb2"
      },
      "outputs": [],
      "source": [
        "netflix_df.dropna(subset = ['rating'], how='all', inplace = True)"
      ]
    },
    {
      "cell_type": "markdown",
      "metadata": {
        "id": "j31XaBINzcb2"
      },
      "source": [
        "Date added with NaN are also only a few compared to the size of the dataset. Hence those rows are dropped."
      ]
    },
    {
      "cell_type": "code",
      "execution_count": null,
      "metadata": {
        "id": "dGTKc4i6zcb2"
      },
      "outputs": [],
      "source": [
        "netflix_df.dropna(subset = ['date_added'], how='all', inplace = True)"
      ]
    },
    {
      "cell_type": "markdown",
      "metadata": {
        "id": "2445xGGDzcb2"
      },
      "source": [
        "Directors and Cast with NaN values are labelled as \"No Director\" and \"No Cast\""
      ]
    },
    {
      "cell_type": "code",
      "execution_count": null,
      "metadata": {
        "id": "4OMuj7rVzcb2"
      },
      "outputs": [],
      "source": [
        "netflix_df.director.fillna(\"No Director\", inplace=True)\n",
        "netflix_df.cast.fillna(\"No Cast\", inplace=True)"
      ]
    },
    {
      "cell_type": "code",
      "execution_count": null,
      "metadata": {
        "id": "_baD-d10zcb2"
      },
      "outputs": [],
      "source": [
        "#creating a new dataframe to split and explode cast data. Splitting and exploding cast coloumn gives a huge number of rows.\n",
        "#Since I don't want to disturb the original dataframe where I split ande explode with directors, a copying is done.\n",
        "#Hence, to show visualisations based on cast, cast_df is used\n",
        "\n",
        "cast_df=netflix_df.copy()"
      ]
    },
    {
      "cell_type": "code",
      "execution_count": null,
      "metadata": {
        "id": "2mVq_Ig3zcb2"
      },
      "outputs": [],
      "source": [
        "cast_df['cast']=cast_df['cast'].str.split(',')\n",
        "\n",
        "cast_df=cast_df.explode('cast')\n",
        "cast_df['cast']=cast_df['cast'].str.strip()"
      ]
    },
    {
      "cell_type": "code",
      "execution_count": null,
      "metadata": {
        "id": "6AB8218Qzcb2"
      },
      "outputs": [],
      "source": [
        "director_df=netflix_df.copy()\n",
        "director_df['director']=director_df['director'].str.split(',')\n",
        "director_df=director_df.explode('director')\n",
        "director_df['director']=director_df['director'].str.strip()"
      ]
    },
    {
      "cell_type": "code",
      "execution_count": null,
      "metadata": {
        "id": "YnPjzOrVzcb2",
        "outputId": "c09da0d7-3ff4-4cfb-9ad7-99113fd7f37e"
      },
      "outputs": [
        {
          "data": {
            "text/plain": [
              "No Director              2214\n",
              "Rajiv Chilaka              22\n",
              "Jan Suter                  21\n",
              "Raúl Campos                19\n",
              "Marcus Raboy               16\n",
              "                         ... \n",
              "Raj Amit Kumar              1\n",
              "Charles A. Nichols          1\n",
              "Brandon Dickerson           1\n",
              "John Michael McDonagh       1\n",
              "Adam Randall                1\n",
              "Name: director, Length: 4992, dtype: int64"
            ]
          },
          "execution_count": 16,
          "metadata": {},
          "output_type": "execute_result"
        }
      ],
      "source": [
        "director_df['director'].value_counts()"
      ]
    },
    {
      "cell_type": "code",
      "execution_count": null,
      "metadata": {
        "id": "9Ul_x_wXzcb2",
        "outputId": "b6161c3d-0def-4c49-e25e-fccbafd4af77"
      },
      "outputs": [
        {
          "data": {
            "text/plain": [
              "No Cast              729\n",
              "Anupam Kher           43\n",
              "Shah Rukh Khan        35\n",
              "Naseeruddin Shah      32\n",
              "Julie Tejwani         30\n",
              "                    ... \n",
              "Dominic Deutscher      1\n",
              "Deborah Grall          1\n",
              "Derek Klena            1\n",
              "Alex Harries           1\n",
              "Rod Alexander          1\n",
              "Name: cast, Length: 35401, dtype: int64"
            ]
          },
          "execution_count": 17,
          "metadata": {},
          "output_type": "execute_result"
        }
      ],
      "source": [
        "cast_df['cast'].value_counts()"
      ]
    },
    {
      "cell_type": "code",
      "execution_count": null,
      "metadata": {
        "id": "sHVjlO6Tzcb2",
        "outputId": "465769f2-248b-4648-b48e-e4b483fba11e"
      },
      "outputs": [
        {
          "data": {
            "image/png": "[encoded data removed]",
            "text/plain": [
              "<Figure size 432x288 with 1 Axes>"
            ]
          },
          "metadata": {},
          "output_type": "display_data"
        }
      ],
      "source": [
        "show_type = netflix_df['type'].value_counts()\n",
        "show_type_label = ['Movie','TV Show']\n",
        "\n",
        "plt.axis('equal')\n",
        "plt.pie(show_type, labels = show_type_label, autopct = '%.1f%%', shadow=True,\n",
        "         textprops={'color':'white'},explode=[0, 0.15], labeldistance = 0.4)\n",
        "plt.title('Movie vs TV Show', fontdict={'fontsize':15, 'fontweight':5})\n",
        "plt.show()"
      ]
    },
    {
      "cell_type": "code",
      "execution_count": null,
      "metadata": {
        "id": "-UpwNtQszcb3"
      },
      "outputs": [],
      "source": [
        "country_df=netflix_df.copy()\n",
        "country_df['country']=country_df['country'].str.split(',')\n",
        "\n",
        "country_df=country_df.explode('country')\n",
        "country_df['country']=country_df['country'].str.strip()"
      ]
    },
    {
      "cell_type": "code",
      "execution_count": null,
      "metadata": {
        "id": "Y0G637tozcb3",
        "outputId": "550d03a7-ca26-4be2-fc62-3edfb1f1b574"
      },
      "outputs": [
        {
          "data": {
            "text/plain": [
              "United States     3681\n",
              "India             1046\n",
              "United Kingdom     805\n",
              "Canada             445\n",
              "France             393\n",
              "                  ... \n",
              "Panama               1\n",
              "Azerbaijan           1\n",
              "Mozambique           1\n",
              "Lithuania            1\n",
              "Liechtenstein        1\n",
              "Name: country, Length: 123, dtype: int64"
            ]
          },
          "execution_count": 23,
          "metadata": {},
          "output_type": "execute_result"
        }
      ],
      "source": [
        "country_df['country'].value_counts()"
      ]
    },
    {
      "cell_type": "code",
      "execution_count": null,
      "metadata": {
        "id": "MvcfLZNpzcb3",
        "outputId": "04a8d0cd-36d9-4191-b5c6-d08c3db9ae3b"
      },
      "outputs": [
        {
          "data": {
            "text/html": [
              "<div>\n",
              "<style scoped>\n",
              "    .dataframe tbody tr th:only-of-type {\n",
              "        vertical-align: middle;\n",
              "    }\n",
              "\n",
              "    .dataframe tbody tr th {\n",
              "        vertical-align: top;\n",
              "    }\n",
              "\n",
              "    .dataframe thead th {\n",
              "        text-align: right;\n",
              "    }\n",
              "</style>\n",
              "<table border=\"1\" class=\"dataframe\">\n",
              "  <thead>\n",
              "    <tr style=\"text-align: right;\">\n",
              "      <th></th>\n",
              "      <th>country</th>\n",
              "      <th>unique_values</th>\n",
              "    </tr>\n",
              "  </thead>\n",
              "  <tbody>\n",
              "    <tr>\n",
              "      <th>0</th>\n",
              "      <td>United States</td>\n",
              "      <td>3681</td>\n",
              "    </tr>\n",
              "    <tr>\n",
              "      <th>1</th>\n",
              "      <td>India</td>\n",
              "      <td>1046</td>\n",
              "    </tr>\n",
              "    <tr>\n",
              "      <th>2</th>\n",
              "      <td>United Kingdom</td>\n",
              "      <td>805</td>\n",
              "    </tr>\n",
              "    <tr>\n",
              "      <th>3</th>\n",
              "      <td>Canada</td>\n",
              "      <td>445</td>\n",
              "    </tr>\n",
              "    <tr>\n",
              "      <th>4</th>\n",
              "      <td>France</td>\n",
              "      <td>393</td>\n",
              "    </tr>\n",
              "    <tr>\n",
              "      <th>5</th>\n",
              "      <td>Japan</td>\n",
              "      <td>316</td>\n",
              "    </tr>\n",
              "    <tr>\n",
              "      <th>6</th>\n",
              "      <td>Spain</td>\n",
              "      <td>232</td>\n",
              "    </tr>\n",
              "    <tr>\n",
              "      <th>7</th>\n",
              "      <td>South Korea</td>\n",
              "      <td>231</td>\n",
              "    </tr>\n",
              "    <tr>\n",
              "      <th>8</th>\n",
              "      <td>Germany</td>\n",
              "      <td>226</td>\n",
              "    </tr>\n",
              "    <tr>\n",
              "      <th>9</th>\n",
              "      <td>Mexico</td>\n",
              "      <td>169</td>\n",
              "    </tr>\n",
              "    <tr>\n",
              "      <th>10</th>\n",
              "      <td>China</td>\n",
              "      <td>162</td>\n",
              "    </tr>\n",
              "    <tr>\n",
              "      <th>11</th>\n",
              "      <td>Australia</td>\n",
              "      <td>158</td>\n",
              "    </tr>\n",
              "    <tr>\n",
              "      <th>12</th>\n",
              "      <td>Egypt</td>\n",
              "      <td>117</td>\n",
              "    </tr>\n",
              "    <tr>\n",
              "      <th>13</th>\n",
              "      <td>Turkey</td>\n",
              "      <td>113</td>\n",
              "    </tr>\n",
              "    <tr>\n",
              "      <th>14</th>\n",
              "      <td>Hong Kong</td>\n",
              "      <td>105</td>\n",
              "    </tr>\n",
              "  </tbody>\n",
              "</table>\n",
              "</div>"
            ],
            "text/plain": [
              "           country  unique_values\n",
              "0    United States           3681\n",
              "1            India           1046\n",
              "2   United Kingdom            805\n",
              "3           Canada            445\n",
              "4           France            393\n",
              "5            Japan            316\n",
              "6            Spain            232\n",
              "7      South Korea            231\n",
              "8          Germany            226\n",
              "9           Mexico            169\n",
              "10           China            162\n",
              "11       Australia            158\n",
              "12           Egypt            117\n",
              "13          Turkey            113\n",
              "14       Hong Kong            105"
            ]
          },
          "execution_count": 24,
          "metadata": {},
          "output_type": "execute_result"
        }
      ],
      "source": [
        "top_country = country_df['country'].value_counts().rename_axis('country').reset_index(name='unique_values').head(15)\n",
        "top_country"
      ]
    },
    {
      "cell_type": "code",
      "execution_count": null,
      "metadata": {
        "id": "I6ipTnxRzcb3",
        "outputId": "7a833479-59cc-4fa8-a778-535d10f2d175"
      },
      "outputs": [
        {
          "data": {
            "image/png": "[encoded data removed]",
            "text/plain": [
              "<Figure size 432x288 with 1 Axes>"
            ]
          },
          "metadata": {
            "needs_background": "light"
          },
          "output_type": "display_data"
        }
      ],
      "source": [
        "sns.barplot(y='country',x='unique_values',data=top_country,orient='h')\n",
        "plt.show()"
      ]
    },
    {
      "cell_type": "code",
      "execution_count": null,
      "metadata": {
        "id": "5epANek6zcb3",
        "outputId": "2ba11ca8-331b-4659-95cd-88497c76955d"
      },
      "outputs": [
        {
          "data": {
            "text/html": [
              "<div>\n",
              "<style scoped>\n",
              "    .dataframe tbody tr th:only-of-type {\n",
              "        vertical-align: middle;\n",
              "    }\n",
              "\n",
              "    .dataframe tbody tr th {\n",
              "        vertical-align: top;\n",
              "    }\n",
              "\n",
              "    .dataframe thead th {\n",
              "        text-align: right;\n",
              "    }\n",
              "</style>\n",
              "<table border=\"1\" class=\"dataframe\">\n",
              "  <thead>\n",
              "    <tr style=\"text-align: right;\">\n",
              "      <th></th>\n",
              "      <th>director</th>\n",
              "      <th>unique_values</th>\n",
              "    </tr>\n",
              "  </thead>\n",
              "  <tbody>\n",
              "    <tr>\n",
              "      <th>1</th>\n",
              "      <td>Rajiv Chilaka</td>\n",
              "      <td>22</td>\n",
              "    </tr>\n",
              "    <tr>\n",
              "      <th>2</th>\n",
              "      <td>Jan Suter</td>\n",
              "      <td>21</td>\n",
              "    </tr>\n",
              "    <tr>\n",
              "      <th>3</th>\n",
              "      <td>Raúl Campos</td>\n",
              "      <td>19</td>\n",
              "    </tr>\n",
              "    <tr>\n",
              "      <th>4</th>\n",
              "      <td>Marcus Raboy</td>\n",
              "      <td>16</td>\n",
              "    </tr>\n",
              "    <tr>\n",
              "      <th>5</th>\n",
              "      <td>Suhas Kadav</td>\n",
              "      <td>16</td>\n",
              "    </tr>\n",
              "    <tr>\n",
              "      <th>6</th>\n",
              "      <td>Jay Karas</td>\n",
              "      <td>15</td>\n",
              "    </tr>\n",
              "    <tr>\n",
              "      <th>7</th>\n",
              "      <td>Cathy Garcia-Molina</td>\n",
              "      <td>13</td>\n",
              "    </tr>\n",
              "    <tr>\n",
              "      <th>8</th>\n",
              "      <td>Jay Chapman</td>\n",
              "      <td>12</td>\n",
              "    </tr>\n",
              "    <tr>\n",
              "      <th>9</th>\n",
              "      <td>Youssef Chahine</td>\n",
              "      <td>12</td>\n",
              "    </tr>\n",
              "    <tr>\n",
              "      <th>10</th>\n",
              "      <td>Martin Scorsese</td>\n",
              "      <td>12</td>\n",
              "    </tr>\n",
              "    <tr>\n",
              "      <th>11</th>\n",
              "      <td>Steven Spielberg</td>\n",
              "      <td>11</td>\n",
              "    </tr>\n",
              "    <tr>\n",
              "      <th>12</th>\n",
              "      <td>Don Michael Paul</td>\n",
              "      <td>10</td>\n",
              "    </tr>\n",
              "    <tr>\n",
              "      <th>13</th>\n",
              "      <td>Shannon Hartman</td>\n",
              "      <td>9</td>\n",
              "    </tr>\n",
              "    <tr>\n",
              "      <th>14</th>\n",
              "      <td>Yılmaz Erdoğan</td>\n",
              "      <td>9</td>\n",
              "    </tr>\n",
              "    <tr>\n",
              "      <th>15</th>\n",
              "      <td>David Dhawan</td>\n",
              "      <td>9</td>\n",
              "    </tr>\n",
              "  </tbody>\n",
              "</table>\n",
              "</div>"
            ],
            "text/plain": [
              "               director  unique_values\n",
              "1         Rajiv Chilaka             22\n",
              "2             Jan Suter             21\n",
              "3           Raúl Campos             19\n",
              "4          Marcus Raboy             16\n",
              "5           Suhas Kadav             16\n",
              "6             Jay Karas             15\n",
              "7   Cathy Garcia-Molina             13\n",
              "8           Jay Chapman             12\n",
              "9       Youssef Chahine             12\n",
              "10      Martin Scorsese             12\n",
              "11     Steven Spielberg             11\n",
              "12     Don Michael Paul             10\n",
              "13      Shannon Hartman              9\n",
              "14       Yılmaz Erdoğan              9\n",
              "15         David Dhawan              9"
            ]
          },
          "execution_count": 26,
          "metadata": {},
          "output_type": "execute_result"
        }
      ],
      "source": [
        "top_directors = director_df['director'].value_counts().rename_axis('director').reset_index(name='unique_values').head(16)\n",
        "top_directors.drop(index=0,axis=0,inplace=True)\n",
        "top_directors"
      ]
    },
    {
      "cell_type": "code",
      "execution_count": null,
      "metadata": {
        "id": "zjtuu2ZOzcb3",
        "outputId": "5c499034-b2d7-4d37-8ba8-a0ba2f74cd42"
      },
      "outputs": [
        {
          "data": {
            "image/png": "[encoded data removed]",
            "text/plain": [
              "<Figure size 432x288 with 1 Axes>"
            ]
          },
          "metadata": {
            "needs_background": "light"
          },
          "output_type": "display_data"
        }
      ],
      "source": [
        "sns.barplot(y='director',x='unique_values',data=top_directors,orient='h')\n",
        "plt.show()"
      ]
    },
    {
      "cell_type": "code",
      "execution_count": null,
      "metadata": {
        "id": "Rs9WAwMfzcb3",
        "outputId": "ab2eaade-35e6-4df4-ef8e-eaa89c03500a"
      },
      "outputs": [
        {
          "data": {
            "image/png": "[encoded data removed]",
            "text/plain": [
              "<Figure size 864x432 with 1 Axes>"
            ]
          },
          "metadata": {
            "needs_background": "light"
          },
          "output_type": "display_data"
        }
      ],
      "source": [
        "netflix_df['date_proper'] = pd.to_datetime(netflix_df['date_added'])\n",
        "\n",
        "netflix_df['added_year'] = netflix_df['date_proper'].dt.year\n",
        "netflix_df['added_year'].fillna(0, inplace = True)\n",
        "netflix_df['added_year'] = netflix_df['added_year'].astype(int)\n",
        "\n",
        "netflix_year_compare = netflix_df.copy()\n",
        "netflix_year_compare.drop(['show_id', 'title', 'director', 'cast', 'country',\n",
        "       'date_added', 'rating', 'duration', 'listed_in',\n",
        "       'description', 'date_proper'], axis = 1,\n",
        "                          inplace = True)\n",
        "\n",
        "add_year = netflix_year_compare.groupby('added_year').type.value_counts()\n",
        "add_year = add_year.unstack().fillna(0)\n",
        "\n",
        "fig, ax = plt.subplots(1, 1, figsize = (12, 6))\n",
        "\n",
        "ax.stackplot(add_year.index, add_year['Movie'], add_year['TV Show'])\n",
        "\n",
        "fig.text(0.12, 0.9,'Movies and TV Shows added on Netflix', fontdict={'fontsize':15})\n",
        "\n",
        "fig.text(0.15,0.18,\"Movie\", fontweight=\"bold\", fontsize=12,color='blue')\n",
        "fig.text(0.2,0.18,\"|\", fontweight=\"bold\", fontsize=14, color='black')\n",
        "fig.text(0.21,0.18,\"TV Show\", fontweight=\"bold\", fontsize=12,color='orange')\n",
        "\n",
        "plt.xticks(np.arange(2008, 2022, 1))\n",
        "\n",
        "plt.show()\n"
      ]
    },
    {
      "cell_type": "code",
      "execution_count": null,
      "metadata": {
        "id": "Z_ZHZ42dzcb3"
      },
      "outputs": [],
      "source": []
    }
  ],
  "metadata": {
    "kernelspec": {
      "display_name": "Python 3",
      "language": "python",
      "name": "python3"
    },
    "language_info": {
      "codemirror_mode": {
        "name": "ipython",
        "version": 3
      },
      "file_extension": ".py",
      "mimetype": "text/x-python",
      "name": "python",
      "nbconvert_exporter": "python",
      "pygments_lexer": "ipython3",
      "version": "3.8.5"
    },
    "colab": {
      "provenance": [],
      "include_colab_link": true
    }
  },
  "nbformat": 4,
  "nbformat_minor": 0
}